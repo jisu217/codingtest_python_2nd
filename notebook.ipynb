{
 "cells": [
  {
   "metadata": {},
   "cell_type": "code",
   "outputs": [],
   "execution_count": null,
   "source": "my_list = [1, 2, 3, 4, 5]",
   "id": "fbc121e30a2defb3"
  },
  {
   "metadata": {},
   "cell_type": "markdown",
   "source": "리스트, 시퀀스(순서)가 있는 자료형",
   "id": "c1afc333fb3a82bc"
  },
  {
   "metadata": {},
   "cell_type": "code",
   "outputs": [],
   "execution_count": null,
   "source": "my_list[\"apple\"] = 1",
   "id": "4700e936a8362d28"
  },
  {
   "metadata": {},
   "cell_type": "markdown",
   "source": "딕셔너리, 키와 값 쌍을 저장",
   "id": "a8af428c8a664be8"
  },
  {
   "metadata": {},
   "cell_type": "code",
   "outputs": [],
   "execution_count": null,
   "source": "my_list = {1, 2, 3}",
   "id": "792100b4fe39386a"
  },
  {
   "metadata": {},
   "cell_type": "markdown",
   "source": "셋, 값 저장",
   "id": "5ce764b5544f89f9"
  },
  {
   "metadata": {},
   "cell_type": "code",
   "outputs": [],
   "execution_count": null,
   "source": "my_tuple = (1, 2, 3)",
   "id": "66dcfbbe6103b551"
  },
  {
   "metadata": {},
   "cell_type": "markdown",
   "source": "x",
   "id": "db0c7e4245dae2b1"
  },
  {
   "metadata": {},
   "cell_type": "code",
   "outputs": [],
   "execution_count": null,
   "source": "",
   "id": "bfce31f8c6c74c10"
  }
 ],
 "metadata": {
  "kernelspec": {
   "display_name": "Python 3",
   "language": "python",
   "name": "python3"
  },
  "language_info": {
   "codemirror_mode": {
    "name": "ipython",
    "version": 2
   },
   "file_extension": ".py",
   "mimetype": "text/x-python",
   "name": "python",
   "nbconvert_exporter": "python",
   "pygments_lexer": "ipython2",
   "version": "2.7.6"
  }
 },
 "nbformat": 4,
 "nbformat_minor": 5
}
