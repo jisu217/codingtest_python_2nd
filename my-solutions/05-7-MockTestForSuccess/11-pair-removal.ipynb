{
 "cells": [
  {
   "metadata": {},
   "cell_type": "markdown",
   "source": "문재 11. 짝지어 제거하기",
   "id": "b5717af126fcc4b0"
  },
  {
   "metadata": {},
   "cell_type": "code",
   "outputs": [],
   "execution_count": null,
   "source": [
    "def solution(s):\n",
    "  stack = [ ]  # 스택 초기화\n",
    "  for c in s:\n",
    "    if stack and stack[-1] == c:  # 스택이 비어있지 않고(stack),\n",
    "                                  # 스택의 마지막 문자(stack[-1])가 현재 문자(c)와 같으면\n",
    "      stack.pop( )   # 스택의 맨 위 문자 제거\n",
    "    else:\n",
    "      stack.append(c)  # 스택에 현재 문자 추가",
    "  return int(not stack)  # 스택이 비어 있으면 1, 그렇지 않으면 0 반환"
   ],
   "id": "9f69135a2f3d0613"
  }
 ],
 "metadata": {
  "kernelspec": {
   "display_name": "Python 3",
   "language": "python",
   "name": "python3"
  },
  "language_info": {
   "codemirror_mode": {
    "name": "ipython",
    "version": 2
   },
   "file_extension": ".py",
   "mimetype": "text/x-python",
   "name": "python",
   "nbconvert_exporter": "python",
   "pygments_lexer": "ipython2",
   "version": "2.7.6"
  }
 },
 "nbformat": 4,
 "nbformat_minor": 5
}
