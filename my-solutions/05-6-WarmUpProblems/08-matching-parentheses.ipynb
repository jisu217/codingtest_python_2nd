{
 "cells": [
  {
   "metadata": {},
   "cell_type": "markdown",
   "source": "문제 08. 괄호 짝 맞추기",
   "id": "c91e796fc5298d97"
  },
  {
   "cell_type": "code",
   "execution_count": null,
   "id": "initial_id",
   "metadata": {
    "collapsed": true
   },
   "outputs": [],
   "source": [
    "def solution(s):\n",
    "  stack = [ ]\n",
    "  for c in s:\n",
    "    if c == \"(\":\n",
    "      stack.append(c)\n",
    "    elif c == \")\":\n",
    "      if not stack:\n",
    "        return False\n",
    "      else:\n",
    "        stack.pop( )\n",
    "  if stack:\n",
    "    return False\n",
    "  else:\n",
    "    return True"
   ]
  }
 ],
 "metadata": {
  "kernelspec": {
   "display_name": "Python 3",
   "language": "python",
   "name": "python3"
  },
  "language_info": {
   "codemirror_mode": {
    "name": "ipython",
    "version": 2
   },
   "file_extension": ".py",
   "mimetype": "text/x-python",
   "name": "python",
   "nbconvert_exporter": "python",
   "pygments_lexer": "ipython2",
   "version": "2.7.6"
  }
 },
 "nbformat": 4,
 "nbformat_minor": 5
}
