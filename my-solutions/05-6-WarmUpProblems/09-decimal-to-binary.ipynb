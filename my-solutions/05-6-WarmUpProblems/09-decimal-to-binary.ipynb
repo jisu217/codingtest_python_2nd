{
 "cells": [
  {
   "metadata": {},
   "cell_type": "markdown",
   "source": "문재 09. 10진수를 2진수로 변환하기",
   "id": "9502a5ca0b162dcb"
  },
  {
   "metadata": {},
   "cell_type": "code",
   "outputs": [],
   "execution_count": null,
   "source": [
    "def solution(decimal):\n",
    "    stack = []\n",
    "    while decimal > 0:\n",
    "        remainder = decimal % 2\n",
    "        stack.append(str(remainder))\n",
    "        decimal //= 2\n",
    "    stack.reverse()\n",
    "    return ''.join(stack)"
   ],
   "id": "initial_id"
  }
 ],
 "metadata": {
  "kernelspec": {
   "display_name": "Python 3",
   "language": "python",
   "name": "python3"
  },
  "language_info": {
   "codemirror_mode": {
    "name": "ipython",
    "version": 2
   },
   "file_extension": ".py",
   "mimetype": "text/x-python",
   "name": "python",
   "nbconvert_exporter": "python",
   "pygments_lexer": "ipython2",
   "version": "2.7.6"
  }
 },
 "nbformat": 4,
 "nbformat_minor": 5
}
