{
 "cells": [
  {
   "metadata": {},
   "cell_type": "markdown",
   "source": "문제 03. 두 개 뽑아서 더하기",
   "id": "5052369938a6c63d"
  },
  {
   "metadata": {},
   "cell_type": "code",
   "outputs": [],
   "execution_count": null,
   "source": [
    "def solution(numbers):\n",
    "    ret = [] # 빈 배열 생성\n",
    "    for i in range(len(numbers)):\n",
    "        for j in range(i + 1, len(numbers)):\n",
    "            ret.append(numbers[i] + numbers[j])\n",
    "    ret = sorted(set(ret))\n",
    "    return ret"
   ],
   "id": "initial_id"
  }
 ],
 "metadata": {
  "kernelspec": {
   "display_name": "Python 3",
   "language": "python",
   "name": "python3"
  },
  "language_info": {
   "codemirror_mode": {
    "name": "ipython",
    "version": 2
   },
   "file_extension": ".py",
   "mimetype": "text/x-python",
   "name": "python",
   "nbconvert_exporter": "python",
   "pygments_lexer": "ipython2",
   "version": "2.7.6"
  }
 },
 "nbformat": 4,
 "nbformat_minor": 5
}
