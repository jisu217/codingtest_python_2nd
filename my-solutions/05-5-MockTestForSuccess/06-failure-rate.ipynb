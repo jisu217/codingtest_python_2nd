{
 "cells": [
  {
   "metadata": {},
   "cell_type": "markdown",
   "source": "",
   "id": "2374ce0df349ef57"
  },
  {
   "metadata": {},
   "cell_type": "code",
   "outputs": [],
   "source": [
    "def solution(N, stages):\n",
    "  # 스테이지별 도전자 수를 구함\n",
    "  challenger = [0] * (N + 2)\n",
    "  for stage in stages:\n",
    "    challenger[stage] += 1\n",
    "\n",
    "  # 스테이지별 실패한 사용자 수를 계산\n",
    "  fails = { }\n",
    "  total = len(stages)\n",
    "\n",
    "  # 각 스테이지를 순회하며, 실패율을 계산\n",
    "  for i in range(1, N + 1):\n",
    "    if challenger[i] == 0 : # ➍ 도전한 사람이 없는 경우, 실패율은 0\n",
    "      fails[i] = 0\n",
    "    else:\n",
    "      fails[i] = challenger[i] / total # ➎ 실패율을 구함\n",
    "      total -= challenger[i] # ➏ 다음 스테이지 실패율을 구하기 위해 현재 스테이지의 인원을 뺌\n",
    "\n",
    "  # 실패율이 높은 스테이지부터 내림차순으로 정렬\n",
    "  result = sorted(fails, key=lambda x : fails[x], reverse=True)\n",
    "\n",
    "  return result"
   ],
   "id": "initial_id",
   "execution_count": null
  },
  {
   "metadata": {},
   "cell_type": "code",
   "outputs": [],
   "execution_count": null,
   "source": "",
   "id": "1242229248acc804"
  }
 ],
 "metadata": {
  "kernelspec": {
   "display_name": "Python 3",
   "language": "python",
   "name": "python3"
  },
  "language_info": {
   "codemirror_mode": {
    "name": "ipython",
    "version": 2
   },
   "file_extension": ".py",
   "mimetype": "text/x-python",
   "name": "python",
   "nbconvert_exporter": "python",
   "pygments_lexer": "ipython2",
   "version": "2.7.6"
  }
 },
 "nbformat": 4,
 "nbformat_minor": 5
}
