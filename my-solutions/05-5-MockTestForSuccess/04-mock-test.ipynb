{
 "cells": [
  {
   "metadata": {},
   "cell_type": "markdown",
   "source": "문제 04. 모의고사",
   "id": "94aa761848450ab1"
  },
  {
   "metadata": {},
   "cell_type": "code",
   "outputs": [],
   "execution_count": null,
   "source": [
    "from jupyter_core.version import pattern\n",
    "\n",
    "def solution(answers):\n",
    "\n",
    "    pattern = [\n",
    "        [1, 2, 3, 4, 5,],\n",
    "        [2, 1, 2, 3, 2, 4, 2, 5],\n",
    "        [3, 3, 1, 1, 2, 2, 4, 4, 5, 5]\n",
    "    ]\n",
    "\n",
    "    score = [0] * 3\n",
    "\n",
    "    for i, answers in enumerate(answers):\n",
    "        for j, answer in enumerate(answers):\n",
    "            if answer == pattern[i % len(pattern)]:\n",
    "                score[j] += 1\n",
    "    max_score = max(score)\n",
    "\n",
    "    highest_score = []\n",
    "    for i, score in enumerate(score):\n",
    "        if score == max_score:\n",
    "            highest_score.append(i + 1)\n",
    "    return highest_score"
   ],
   "id": "initial_id"
  }
 ],
 "metadata": {
  "kernelspec": {
   "display_name": "Python 3",
   "language": "python",
   "name": "python3"
  },
  "language_info": {
   "codemirror_mode": {
    "name": "ipython",
    "version": 2
   },
   "file_extension": ".py",
   "mimetype": "text/x-python",
   "name": "python",
   "nbconvert_exporter": "python",
   "pygments_lexer": "ipython2",
   "version": "2.7.6"
  }
 },
 "nbformat": 4,
 "nbformat_minor": 5
}
