{
 "cells": [
  {
   "metadata": {},
   "cell_type": "markdown",
   "source": "문제 04. 모의고사",
   "id": "cf59e42ea042bda7"
  },
  {
   "metadata": {},
   "cell_type": "code",
   "outputs": [],
   "execution_count": null,
   "source": [
    "def solution(answers):\n",
    "  # 수포자들의 패턴을 리스트로 정의\n",
    "  patterns = [\n",
    "    [1, 2, 3, 4, 5], # 1번 수포자\n",
    "    [2, 1, 2, 3, 2, 4, 2, 5], # 2번 수포자\n",
    "    [3, 3, 1, 1, 2, 2, 4, 4, 5, 5] # 3번 수포자\n",
    "  ]\n",
    "\n",
    "  # 수포자들의 점수를 저장할 리스트\n",
    "  scores = [0] * 3 # scores = [0, 0, 0]\n",
    "\n",
    "  # 각 수포자의 패턴과 정답이 얼마나 일치하는지 확인\n",
    "  # enumerate: 인덱스, 값 반환\n",
    "  for i, answer in enumerate(answers): # i: 문제 번호, answer: 정답\n",
    "    for j, pattern in enumerate(patterns): # j = 수포자 번호, pattern: 수포자 답 패턴\n",
    "\n",
    "      if answer == pattern[i % len(pattern)]:\n",
    "        scores[j] += 1\n",
    "\n",
    "  # 가장 높은 점수 저장\n",
    "  max_score = max(scores)\n",
    "\n",
    "  # 최고 점수를 가진 수포자 번호 저장할 리스트\n",
    "  highest_scores = [ ]\n",
    "\n",
    "  for i, score in enumerate(scores):\n",
    "    if score == max_score:\n",
    "      # 수포자 번호는 i+1 (0번 인덱스 = 1번 수포자)\n",
    "      highest_scores.append(i + 1)\n",
    "\n",
    "  return highest_scores"
   ],
   "id": "9a5e9cdc8df516c2"
  }
 ],
 "metadata": {
  "kernelspec": {
   "display_name": "Python 3",
   "language": "python",
   "name": "python3"
  },
  "language_info": {
   "codemirror_mode": {
    "name": "ipython",
    "version": 2
   },
   "file_extension": ".py",
   "mimetype": "text/x-python",
   "name": "python",
   "nbconvert_exporter": "python",
   "pygments_lexer": "ipython2",
   "version": "2.7.6"
  }
 },
 "nbformat": 4,
 "nbformat_minor": 5
}
