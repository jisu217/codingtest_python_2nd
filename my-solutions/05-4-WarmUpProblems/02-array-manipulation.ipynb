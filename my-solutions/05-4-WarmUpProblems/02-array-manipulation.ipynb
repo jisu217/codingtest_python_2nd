{
 "cells": [
  {
   "metadata": {},
   "cell_type": "markdown",
   "source": "02. 배열 제어하기",
   "id": "5b2510843fa62a4a"
  },
  {
   "metadata": {},
   "cell_type": "code",
   "outputs": [],
   "source": [
    "def solution(arr):\n",
    "    arr2= list(set(arr)) # set(): 중복값 허용 X\n",
    "    arr2.sort(reverse=True)\n",
    "    return arr2"
   ],
   "id": "initial_id",
   "execution_count": null
  }
 ],
 "metadata": {
  "kernelspec": {
   "display_name": "Python 3",
   "language": "python",
   "name": "python3"
  },
  "language_info": {
   "codemirror_mode": {
    "name": "ipython",
    "version": 2
   },
   "file_extension": ".py",
   "mimetype": "text/x-python",
   "name": "python",
   "nbconvert_exporter": "python",
   "pygments_lexer": "ipython2",
   "version": "2.7.6"
  }
 },
 "nbformat": 4,
 "nbformat_minor": 5
}
